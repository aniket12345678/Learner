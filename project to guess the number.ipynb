{
 "cells": [
  {
   "cell_type": "code",
   "execution_count": 6,
   "metadata": {},
   "outputs": [
    {
     "name": "stdout",
     "output_type": "stream",
     "text": [
      "number of guesses is limited to 9\n",
      "guess the number:- 5\n",
      "it is greater than  5\n",
      "8  guesses are left\n",
      "guess the number:- 50\n",
      "it is less than  50\n",
      "7  guesses are left\n",
      "guess the number:- 40\n",
      "it is less than  40\n",
      "6  guesses are left\n",
      "guess the number:- 20\n",
      "it is less than  20\n",
      "5  guesses are left\n",
      "guess the number:- 10\n",
      "it is greater than  10\n",
      "4  guesses are left\n",
      "guess the number:- 15\n",
      "it is greater than  15\n",
      "3  guesses are left\n",
      "guess the number:- 17\n",
      "it is greater than  17\n",
      "2  guesses are left\n",
      "guess the number:- 18\n",
      "congratulations\n"
     ]
    }
   ],
   "source": [
    "n = 18\n",
    "print(\"number of guesses is limited to 9\")\n",
    "i = 0\n",
    "while(i<=9):\n",
    "    a = int(input(\"guess the number:- \"))\n",
    "    if(a>n):\n",
    "        print(\"it is less than \",a)\n",
    "    elif(a<n):\n",
    "        print(\"it is greater than \",a)\n",
    "    else:\n",
    "        print(\"congratulations\")\n",
    "        break\n",
    "    print(8-i,\" guesses are left\")\n",
    "    i = i+1\n",
    "\n",
    "if(i>8):\n",
    "    print(\"game over\")"
   ]
  },
  {
   "cell_type": "code",
   "execution_count": null,
   "metadata": {},
   "outputs": [],
   "source": []
  }
 ],
 "metadata": {
  "kernelspec": {
   "display_name": "Python 3",
   "language": "python",
   "name": "python3"
  },
  "language_info": {
   "codemirror_mode": {
    "name": "ipython",
    "version": 3
   },
   "file_extension": ".py",
   "mimetype": "text/x-python",
   "name": "python",
   "nbconvert_exporter": "python",
   "pygments_lexer": "ipython3",
   "version": "3.7.4"
  }
 },
 "nbformat": 4,
 "nbformat_minor": 2
}

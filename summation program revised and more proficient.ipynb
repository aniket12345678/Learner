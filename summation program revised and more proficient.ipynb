{
 "cells": [
  {
   "cell_type": "markdown",
   "metadata": {},
   "source": [
    "program to calculate summation of first n natural numbers"
   ]
  },
  {
   "cell_type": "code",
   "execution_count": 25,
   "metadata": {},
   "outputs": [
    {
     "name": "stdout",
     "output_type": "stream",
     "text": [
      "enter first number:- 1\n",
      "enter last number:- 10\n",
      "55\n"
     ]
    }
   ],
   "source": [
    "a = int(input(\"enter first number:- \"))\n",
    "n = int(input(\"enter last number:- \"))\n",
    "sum = 0\n",
    "for i in range(a,n+1):\n",
    "    sum+=i\n",
    "print(sum)"
   ]
  },
  {
   "cell_type": "markdown",
   "metadata": {},
   "source": [
    "program to calculate summation of even numbers between certain  interval"
   ]
  },
  {
   "cell_type": "code",
   "execution_count": 24,
   "metadata": {},
   "outputs": [
    {
     "name": "stdout",
     "output_type": "stream",
     "text": [
      "enter first number:- 1\n",
      "enter last number:- 10\n",
      "30\n"
     ]
    }
   ],
   "source": [
    "c = int(input(\"enter first number:- \"))\n",
    "d = int(input(\"enter last number:- \"))\n",
    "sum = 0\n",
    "for i in range(c,d+1):\n",
    "    if(i%2==0):\n",
    "        sum+=i\n",
    "print(sum)"
   ]
  },
  {
   "cell_type": "code",
   "execution_count": null,
   "metadata": {},
   "outputs": [],
   "source": []
  }
 ],
 "metadata": {
  "kernelspec": {
   "display_name": "Python 3",
   "language": "python",
   "name": "python3"
  },
  "language_info": {
   "codemirror_mode": {
    "name": "ipython",
    "version": 3
   },
   "file_extension": ".py",
   "mimetype": "text/x-python",
   "name": "python",
   "nbconvert_exporter": "python",
   "pygments_lexer": "ipython3",
   "version": "3.7.4"
  }
 },
 "nbformat": 4,
 "nbformat_minor": 2
}

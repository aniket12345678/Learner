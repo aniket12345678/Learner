{
 "cells": [
  {
   "cell_type": "markdown",
   "metadata": {},
   "source": [
    "program to find maximum or minimum for 3 numbers"
   ]
  },
  {
   "cell_type": "code",
   "execution_count": 1,
   "metadata": {},
   "outputs": [
    {
     "name": "stdout",
     "output_type": "stream",
     "text": [
      "1st number :- 89\n",
      "2nd number :- 55\n",
      "3rd number :- 45\n",
      "89  is maximum\n"
     ]
    }
   ],
   "source": [
    "a = int(input(\"1st number :- \"))\n",
    "b = int(input(\"2nd number :- \"))\n",
    "c = int(input(\"3rd number :- \"))\n",
    "\n",
    "if(a>b and a>c):\n",
    "    print(a,\" is maximum\")\n",
    "elif(b>a and b>c):\n",
    "    print(b,\" is maximum\")\n",
    "else:\n",
    "    print(c,\" is maximum\")"
   ]
  },
  {
   "cell_type": "code",
   "execution_count": 7,
   "metadata": {},
   "outputs": [],
   "source": [
    "def compare(c,d,e):\n",
    "    if(c>d and c>e):\n",
    "        print(c,\" is maximum\")\n",
    "    elif(d>c and d>e):\n",
    "        print(d,\" is maximum\")\n",
    "    else:\n",
    "        print(e,\" is maximum\")"
   ]
  },
  {
   "cell_type": "code",
   "execution_count": 8,
   "metadata": {},
   "outputs": [
    {
     "name": "stdout",
     "output_type": "stream",
     "text": [
      "450  is maximum\n"
     ]
    }
   ],
   "source": [
    "compare(120,450,86)"
   ]
  },
  {
   "cell_type": "code",
   "execution_count": null,
   "metadata": {},
   "outputs": [],
   "source": []
  }
 ],
 "metadata": {
  "kernelspec": {
   "display_name": "Python 3",
   "language": "python",
   "name": "python3"
  },
  "language_info": {
   "codemirror_mode": {
    "name": "ipython",
    "version": 3
   },
   "file_extension": ".py",
   "mimetype": "text/x-python",
   "name": "python",
   "nbconvert_exporter": "python",
   "pygments_lexer": "ipython3",
   "version": "3.7.4"
  }
 },
 "nbformat": 4,
 "nbformat_minor": 2
}

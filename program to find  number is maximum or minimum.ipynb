{
 "cells": [
  {
   "cell_type": "markdown",
   "metadata": {},
   "source": [
    "program to find whether a number is maximum or minimum"
   ]
  },
  {
   "cell_type": "code",
   "execution_count": 2,
   "metadata": {},
   "outputs": [
    {
     "name": "stdout",
     "output_type": "stream",
     "text": [
      "1st number :- 45\n",
      "2nd number :- 36\n",
      "45  is maximum\n"
     ]
    }
   ],
   "source": [
    "a = int(input(\"1st number :- \"))\n",
    "b = int(input(\"2nd number :- \"))\n",
    "\n",
    "if(a>b):\n",
    "    print(a,\" is maximum\")\n",
    "else:\n",
    "    print(b,\" is maximum\")"
   ]
  },
  {
   "cell_type": "code",
   "execution_count": 7,
   "metadata": {},
   "outputs": [],
   "source": [
    "def compare(c,d):\n",
    "    if(c>d):\n",
    "        print(c,\" is maximum and \",d,\" is minimum\")\n",
    "    else:\n",
    "        print(d,\" is maximum and \",c,\" is minimum\")"
   ]
  },
  {
   "cell_type": "code",
   "execution_count": 8,
   "metadata": {},
   "outputs": [
    {
     "name": "stdout",
     "output_type": "stream",
     "text": [
      "56  is maximum and  45  is minimum\n"
     ]
    }
   ],
   "source": [
    "compare(56,45)"
   ]
  },
  {
   "cell_type": "code",
   "execution_count": null,
   "metadata": {},
   "outputs": [],
   "source": []
  }
 ],
 "metadata": {
  "kernelspec": {
   "display_name": "Python 3",
   "language": "python",
   "name": "python3"
  },
  "language_info": {
   "codemirror_mode": {
    "name": "ipython",
    "version": 3
   },
   "file_extension": ".py",
   "mimetype": "text/x-python",
   "name": "python",
   "nbconvert_exporter": "python",
   "pygments_lexer": "ipython3",
   "version": "3.7.4"
  }
 },
 "nbformat": 4,
 "nbformat_minor": 2
}

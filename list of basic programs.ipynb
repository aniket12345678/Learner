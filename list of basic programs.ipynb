{
 "cells": [
  {
   "cell_type": "markdown",
   "metadata": {},
   "source": [
    "list of basic programs"
   ]
  },
  {
   "cell_type": "markdown",
   "metadata": {},
   "source": [
    "program 1:- print hello world"
   ]
  },
  {
   "cell_type": "code",
   "execution_count": 1,
   "metadata": {},
   "outputs": [
    {
     "name": "stdout",
     "output_type": "stream",
     "text": [
      "hello world\n"
     ]
    }
   ],
   "source": [
    "print(\"hello world\")"
   ]
  },
  {
   "cell_type": "code",
   "execution_count": 2,
   "metadata": {},
   "outputs": [
    {
     "name": "stdout",
     "output_type": "stream",
     "text": [
      "helloworld\n"
     ]
    }
   ],
   "source": [
    "print(\"hello\"\"world\")"
   ]
  },
  {
   "cell_type": "markdown",
   "metadata": {},
   "source": [
    "program 2:- program to add 2 numbers"
   ]
  },
  {
   "cell_type": "code",
   "execution_count": 4,
   "metadata": {},
   "outputs": [
    {
     "name": "stdout",
     "output_type": "stream",
     "text": [
      "15\n"
     ]
    }
   ],
   "source": [
    "a = 7\n",
    "b = 8\n",
    "c = a+b\n",
    "print(c)"
   ]
  },
  {
   "cell_type": "code",
   "execution_count": 5,
   "metadata": {},
   "outputs": [
    {
     "name": "stdout",
     "output_type": "stream",
     "text": [
      "enter 1st number:- 4\n",
      "enter 2nd number:- 6\n",
      "10\n"
     ]
    }
   ],
   "source": [
    "a1 = int(input(\"enter 1st number:- \"))\n",
    "b1 = int(input(\"enter 2nd number:- \"))\n",
    "c1 = a1+b1\n",
    "print(c1)"
   ]
  },
  {
   "cell_type": "code",
   "execution_count": 6,
   "metadata": {},
   "outputs": [],
   "source": [
    "def add(a2,b2):\n",
    "    c2 = a2+b2\n",
    "    print(c2)"
   ]
  },
  {
   "cell_type": "code",
   "execution_count": 7,
   "metadata": {},
   "outputs": [
    {
     "name": "stdout",
     "output_type": "stream",
     "text": [
      "53\n"
     ]
    }
   ],
   "source": [
    "add(8,45)"
   ]
  },
  {
   "cell_type": "markdown",
   "metadata": {},
   "source": [
    "program 3:- to find the square of the number"
   ]
  },
  {
   "cell_type": "code",
   "execution_count": 9,
   "metadata": {},
   "outputs": [
    {
     "name": "stdout",
     "output_type": "stream",
     "text": [
      "enter any number:- 8\n",
      "2.8284271247461903\n"
     ]
    }
   ],
   "source": [
    "d = int(input(\"enter any number:- \"))\n",
    "print(pow(d,0.5))"
   ]
  },
  {
   "cell_type": "markdown",
   "metadata": {},
   "source": [
    "program 4:- to find the area of a triangle"
   ]
  },
  {
   "cell_type": "code",
   "execution_count": 14,
   "metadata": {},
   "outputs": [
    {
     "name": "stdout",
     "output_type": "stream",
     "text": [
      "1st side:- 3\n",
      "2nd side:- 4\n",
      "3rd side:- 5\n",
      "6.0\n"
     ]
    }
   ],
   "source": [
    "k = int(input(\"1st side:- \"))\n",
    "y = int(input(\"2nd side:- \"))\n",
    "z = int(input(\"3rd side:- \"))\n",
    "s = (k+y+z)/2\n",
    "t = s*(s-k)*(s-y)*(s-z)\n",
    "q = pow(t,0.5)\n",
    "if((k+y)<=max(k,y,z)):\n",
    "    print(\"triangle not possible\")\n",
    "elif((y+z)<=max(k,y,z)):\n",
    "    print(\"triangle not possible\")\n",
    "elif((k+z)<=max(k,y,z)):\n",
    "    print(\"triangle not possible\")\n",
    "else:\n",
    "    print(q)"
   ]
  },
  {
   "cell_type": "markdown",
   "metadata": {},
   "source": [
    "program 5:- program to solve quadratic equation"
   ]
  },
  {
   "cell_type": "code",
   "execution_count": 5,
   "metadata": {},
   "outputs": [
    {
     "name": "stdout",
     "output_type": "stream",
     "text": [
      "enter a:- 1\n",
      "enter b:- -4\n",
      "enter c:- 4\n",
      "2.0\n",
      "2.0\n"
     ]
    }
   ],
   "source": [
    "s = int(input(\"enter a:- \"))\n",
    "w = int(input(\"enter b:- \"))\n",
    "v = int(input(\"enter c:- \"))\n",
    "dis = (w**2)-(4*s*v)\n",
    "solution1 = (-w+pow(dis,2))/(2*s)\n",
    "solution2 = (-w-pow(dis,2))/(2*s)\n",
    "print(solution1)\n",
    "print(solution2)"
   ]
  },
  {
   "cell_type": "markdown",
   "metadata": {},
   "source": [
    "program 6:- program to swap 2 variables"
   ]
  },
  {
   "cell_type": "code",
   "execution_count": 17,
   "metadata": {},
   "outputs": [
    {
     "name": "stdout",
     "output_type": "stream",
     "text": [
      "6\n",
      "7\n"
     ]
    }
   ],
   "source": [
    "o = 7\n",
    "p = 6\n",
    "t = p\n",
    "p = o\n",
    "o = t\n",
    "print(o)\n",
    "print(p)"
   ]
  },
  {
   "cell_type": "code",
   "execution_count": 19,
   "metadata": {},
   "outputs": [
    {
     "name": "stdout",
     "output_type": "stream",
     "text": [
      "12\n",
      "8\n"
     ]
    }
   ],
   "source": [
    "o1 = 8\n",
    "p1 = 12\n",
    "o1,p1 = p1,o1\n",
    "print(o1)\n",
    "print(p1)"
   ]
  },
  {
   "cell_type": "markdown",
   "metadata": {},
   "source": [
    "program 7:- to check whether a number is positive, negative or 0"
   ]
  },
  {
   "cell_type": "code",
   "execution_count": 22,
   "metadata": {},
   "outputs": [
    {
     "name": "stdout",
     "output_type": "stream",
     "text": [
      "enter number:- 0\n",
      "it is 0\n"
     ]
    }
   ],
   "source": [
    "a_8 = int(input(\"enter number:- \"))\n",
    "if(a_8==0):\n",
    "    print(\"it is 0\")\n",
    "elif(a_8>0):\n",
    "    print(\"it is positive\")\n",
    "else:\n",
    "    print(\"it is negative\")"
   ]
  },
  {
   "cell_type": "markdown",
   "metadata": {},
   "source": [
    "program 8:- to check whether a number is even or odd"
   ]
  },
  {
   "cell_type": "code",
   "execution_count": 24,
   "metadata": {},
   "outputs": [
    {
     "name": "stdout",
     "output_type": "stream",
     "text": [
      "enter number:- 7\n",
      "7  is an odd number\n"
     ]
    }
   ],
   "source": [
    "a8 = int(input(\"enter number:- \"))\n",
    "if(a8%2==0):\n",
    "    print(a8,\" is an even number\")\n",
    "else:\n",
    "    print(a8,\" is an odd number\")"
   ]
  },
  {
   "cell_type": "markdown",
   "metadata": {},
   "source": [
    "program 9:- to convert kilometers to miles"
   ]
  },
  {
   "cell_type": "code",
   "execution_count": 27,
   "metadata": {},
   "outputs": [
    {
     "name": "stdout",
     "output_type": "stream",
     "text": [
      "Enter kilometers:- 15\n",
      "9.320565\n"
     ]
    }
   ],
   "source": [
    "kilometers = int(input(\"Enter kilometers:- \"))\n",
    "miles = kilometers*0.621371\n",
    "print(miles)"
   ]
  },
  {
   "cell_type": "markdown",
   "metadata": {},
   "source": [
    "program 10:- to convert celsius to farenheit"
   ]
  },
  {
   "cell_type": "code",
   "execution_count": 29,
   "metadata": {},
   "outputs": [
    {
     "name": "stdout",
     "output_type": "stream",
     "text": [
      "enter celsius temperature:- 10\n",
      "50.0\n"
     ]
    }
   ],
   "source": [
    "celsius = int(input(\"enter celsius temperature:- \"))\n",
    "farenhiet = celsius*(9/5) + 32\n",
    "print(farenhiet)"
   ]
  },
  {
   "cell_type": "markdown",
   "metadata": {},
   "source": [
    "program 11:- to find largest among 3 numbers"
   ]
  },
  {
   "cell_type": "code",
   "execution_count": 31,
   "metadata": {},
   "outputs": [
    {
     "name": "stdout",
     "output_type": "stream",
     "text": [
      "enter 1st number:- 56\n",
      "enter 2nd number:- 78\n",
      "enter 3rd number:- 52\n",
      "78 is largest\n"
     ]
    }
   ],
   "source": [
    "a_1 = int(input(\"enter 1st number:- \"))\n",
    "b_1 = int(input(\"enter 2nd number:- \"))\n",
    "c_1 = int(input(\"enter 3rd number:- \"))\n",
    "if(a_1>b_1) and(a_1>c_1):\n",
    "    print(a_1,\"is largest\")\n",
    "elif(b_1>a_1) and(b_1>c_1):\n",
    "    print(b_1,\"is largest\")\n",
    "else:\n",
    "    print(c_1,\"is largest\")"
   ]
  },
  {
   "cell_type": "markdown",
   "metadata": {},
   "source": [
    "program 12:- to generate a random number"
   ]
  },
  {
   "cell_type": "code",
   "execution_count": 36,
   "metadata": {},
   "outputs": [
    {
     "name": "stdout",
     "output_type": "stream",
     "text": [
      "enter num1:- 1\n",
      "enter num2:- 100\n",
      "51\n"
     ]
    }
   ],
   "source": [
    "import random\n",
    "num1 = int(input(\"enter num1:- \"))\n",
    "num2 = int(input(\"enter num2:- \"))\n",
    "print(random.randint(num1,num2))"
   ]
  },
  {
   "cell_type": "markdown",
   "metadata": {},
   "source": [
    "program 13:- to print fibonacci sequence"
   ]
  },
  {
   "cell_type": "code",
   "execution_count": 4,
   "metadata": {},
   "outputs": [
    {
     "name": "stdout",
     "output_type": "stream",
     "text": [
      "enter number of terms:- 10\n",
      "0\n",
      "1\n",
      "1\n",
      "2\n",
      "3\n",
      "5\n",
      "8\n",
      "13\n",
      "21\n",
      "34\n"
     ]
    }
   ],
   "source": [
    "n1 = int(input(\"enter number of terms:- \"))\n",
    "a_5 = 0\n",
    "b_5 = 1\n",
    "print(a_5)\n",
    "print(b_5)\n",
    "for i in range(2,n1):\n",
    "    temp = a_5+b_5\n",
    "    a_5 = b_5\n",
    "    b_5 = temp\n",
    "    print(temp)\n"
   ]
  },
  {
   "cell_type": "markdown",
   "metadata": {},
   "source": [
    "program 14:- to print n natural numbers"
   ]
  },
  {
   "cell_type": "code",
   "execution_count": 6,
   "metadata": {},
   "outputs": [
    {
     "name": "stdout",
     "output_type": "stream",
     "text": [
      "enter number of terms:- 15\n",
      "1\n",
      "2\n",
      "3\n",
      "4\n",
      "5\n",
      "6\n",
      "7\n",
      "8\n",
      "9\n",
      "10\n",
      "11\n",
      "12\n",
      "13\n",
      "14\n"
     ]
    }
   ],
   "source": [
    "n2 = int(input(\"enter number of terms:- \"))\n",
    "for i5 in range(1,n2):\n",
    "    print(i5)"
   ]
  },
  {
   "cell_type": "markdown",
   "metadata": {},
   "source": [
    "program 15:- summation of consecutive natural numbers"
   ]
  },
  {
   "cell_type": "code",
   "execution_count": 11,
   "metadata": {},
   "outputs": [
    {
     "name": "stdout",
     "output_type": "stream",
     "text": [
      "enter 1st number:- 2\n",
      "enter last number:- 10\n",
      "54\n"
     ]
    }
   ],
   "source": [
    "n3 = int(input(\"enter 1st number:- \"))\n",
    "m3 = int(input(\"enter last number:- \"))\n",
    "sum1 = 0\n",
    "for i2 in range(n3,m3+1):\n",
    "    sum1 = sum1+i2\n",
    "print(sum1)"
   ]
  },
  {
   "cell_type": "markdown",
   "metadata": {},
   "source": [
    "program 16:- find the factorial of a number"
   ]
  },
  {
   "cell_type": "code",
   "execution_count": 19,
   "metadata": {},
   "outputs": [
    {
     "name": "stdout",
     "output_type": "stream",
     "text": [
      "enter the number:- 8\n",
      "40320\n"
     ]
    }
   ],
   "source": [
    "n7 = int(input(\"enter the number:- \"))\n",
    "mul = 1\n",
    "for i4 in range(1,n7+1):\n",
    "    mul = mul*i4\n",
    "print(mul)"
   ]
  },
  {
   "cell_type": "markdown",
   "metadata": {},
   "source": [
    "program 17:- to check whether a given number is prime or not"
   ]
  },
  {
   "cell_type": "code",
   "execution_count": 30,
   "metadata": {},
   "outputs": [
    {
     "name": "stdout",
     "output_type": "stream",
     "text": [
      "enter number:- 10\n",
      "10  is a composite number\n"
     ]
    }
   ],
   "source": [
    "e1 = int(input(\"enter number:- \"))\n",
    "for i41 in range(2,e1):\n",
    "    if(e1%i41==0):\n",
    "        print(e1,\" is a composite number\")\n",
    "        break\n",
    "else:\n",
    "    print(e1,\" is a prime number\")"
   ]
  },
  {
   "cell_type": "code",
   "execution_count": null,
   "metadata": {},
   "outputs": [],
   "source": []
  }
 ],
 "metadata": {
  "kernelspec": {
   "display_name": "Python 3",
   "language": "python",
   "name": "python3"
  },
  "language_info": {
   "codemirror_mode": {
    "name": "ipython",
    "version": 3
   },
   "file_extension": ".py",
   "mimetype": "text/x-python",
   "name": "python",
   "nbconvert_exporter": "python",
   "pygments_lexer": "ipython3",
   "version": "3.7.4"
  }
 },
 "nbformat": 4,
 "nbformat_minor": 2
}

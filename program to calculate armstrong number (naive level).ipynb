{
 "cells": [
  {
   "cell_type": "markdown",
   "metadata": {},
   "source": [
    "program to calculate armstrong number (naive level)"
   ]
  },
  {
   "cell_type": "code",
   "execution_count": 27,
   "metadata": {},
   "outputs": [
    {
     "name": "stdout",
     "output_type": "stream",
     "text": [
      "enter order:- 3\n",
      "enter hundreds digit:- 4\n",
      "enter tens digit:- 0\n",
      "enter units digit:- 7\n",
      "armstrong number\n"
     ]
    }
   ],
   "source": [
    "n = int(input(\"enter order:- \"))\n",
    "if(n==4):\n",
    "    thousand = int(input(\"enter thousands digit:- \"))\n",
    "    hundreds = int(input(\"enter hundreds digit:- \"))\n",
    "    tens = int(input(\"enter tens digit:- \"))\n",
    "    units = int(input(\"enter units digit:- \"))\n",
    "    if((1000*thousand+100*hundreds+10*tens+units)==(pow(thousand,n)+pow(hundreds,n)+pow(tens,n)+pow(units,n) )):\n",
    "        print(\"armstrong number\")\n",
    "    else:\n",
    "        print(\"not an armstrong number\")\n",
    "elif(n==3):\n",
    "    hundreds = int(input(\"enter hundreds digit:- \"))\n",
    "    tens = int(input(\"enter tens digit:- \"))\n",
    "    units = int(input(\"enter units digit:- \"))\n",
    "    if((100*hundreds+10*tens+units)==(pow(hundreds,n)+pow(tens,n)+pow(units,n))):\n",
    "        print(\"armstrong number\")\n",
    "    else:\n",
    "        print(\"not an armstrong number\")\n",
    "elif(n==2):\n",
    "    print(\"no armstrong number exists\")\n",
    "else:\n",
    "    units = int(input(\"enter units digit:- \"))\n",
    "    if(units==pow(units,n)):\n",
    "        print(\"armstrong number\")\n",
    "    else:\n",
    "        print(\"not an armstrong number\")"
   ]
  },
  {
   "cell_type": "code",
   "execution_count": null,
   "metadata": {},
   "outputs": [],
   "source": []
  }
 ],
 "metadata": {
  "kernelspec": {
   "display_name": "Python 3",
   "language": "python",
   "name": "python3"
  },
  "language_info": {
   "codemirror_mode": {
    "name": "ipython",
    "version": 3
   },
   "file_extension": ".py",
   "mimetype": "text/x-python",
   "name": "python",
   "nbconvert_exporter": "python",
   "pygments_lexer": "ipython3",
   "version": "3.7.4"
  }
 },
 "nbformat": 4,
 "nbformat_minor": 2
}

{
 "cells": [
  {
   "cell_type": "code",
   "execution_count": 3,
   "metadata": {},
   "outputs": [
    {
     "name": "stdout",
     "output_type": "stream",
     "text": [
      "P1 :- paper\n",
      "P2 :- rock\n",
      "paper wins\n"
     ]
    }
   ],
   "source": [
    "P1 = str(input(\"P1 :- \"))\n",
    "P2 = str(input(\"P2 :- \"))\n",
    "c = \"rock\"\n",
    "d = \"paper\"\n",
    "e = \"scissor\"\n",
    "if((P1==c and P2==e) or (P1==e and P2==c)):\n",
    "    print(\"rock wins\")\n",
    "elif((P1==c and P2==d) or (P1==d and P2==c)):\n",
    "    print(\"paper wins\")\n",
    "elif((P1==d and P2==e) or (P1==e and P2==d)):\n",
    "    print(\"scissor wins\")"
   ]
  },
  {
   "cell_type": "code",
   "execution_count": null,
   "metadata": {},
   "outputs": [],
   "source": []
  }
 ],
 "metadata": {
  "kernelspec": {
   "display_name": "Python 3",
   "language": "python",
   "name": "python3"
  },
  "language_info": {
   "codemirror_mode": {
    "name": "ipython",
    "version": 3
   },
   "file_extension": ".py",
   "mimetype": "text/x-python",
   "name": "python",
   "nbconvert_exporter": "python",
   "pygments_lexer": "ipython3",
   "version": "3.7.4"
  }
 },
 "nbformat": 4,
 "nbformat_minor": 2
}

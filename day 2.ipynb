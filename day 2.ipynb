{
 "cells": [
  {
   "cell_type": "code",
   "execution_count": 1,
   "metadata": {},
   "outputs": [],
   "source": [
    "dict1 = {}"
   ]
  },
  {
   "cell_type": "code",
   "execution_count": 2,
   "metadata": {},
   "outputs": [
    {
     "data": {
      "text/plain": [
       "{}"
      ]
     },
     "execution_count": 2,
     "metadata": {},
     "output_type": "execute_result"
    }
   ],
   "source": [
    "dict1"
   ]
  },
  {
   "cell_type": "code",
   "execution_count": 5,
   "metadata": {},
   "outputs": [],
   "source": [
    "dict1.update({'abash': 'embarass', 'abate': 'to reduce', 'abdicate': 'stepdown'})"
   ]
  },
  {
   "cell_type": "code",
   "execution_count": 6,
   "metadata": {},
   "outputs": [
    {
     "data": {
      "text/plain": [
       "{'abash': 'embarass', 'abate': 'to reduce', 'abdicate': 'stepdown'}"
      ]
     },
     "execution_count": 6,
     "metadata": {},
     "output_type": "execute_result"
    }
   ],
   "source": [
    "dict1"
   ]
  },
  {
   "cell_type": "code",
   "execution_count": 8,
   "metadata": {},
   "outputs": [
    {
     "data": {
      "text/plain": [
       "'embarass'"
      ]
     },
     "execution_count": 8,
     "metadata": {},
     "output_type": "execute_result"
    }
   ],
   "source": [
    "dict1['abash']"
   ]
  },
  {
   "cell_type": "code",
   "execution_count": 9,
   "metadata": {},
   "outputs": [
    {
     "name": "stdout",
     "output_type": "stream",
     "text": [
      "enter your word:- abash\n",
      "embarass\n"
     ]
    }
   ],
   "source": [
    "name = str(input(\"enter your word:- \"))\n",
    "print(dict1[name])"
   ]
  },
  {
   "cell_type": "code",
   "execution_count": 19,
   "metadata": {},
   "outputs": [
    {
     "name": "stdout",
     "output_type": "stream",
     "text": [
      "4\n",
      "2\n",
      "enter operator:- add\n"
     ]
    }
   ],
   "source": [
    "a = int(input())\n",
    "b = int(input())\n",
    "operator = input(\"enter operator:- \")\n",
    "c = a*b\n",
    "d = a+b\n",
    "e = a/b\n",
    "if(operator=='mul(a,b)'):\n",
    "    def mul(a,b):\n",
    "        if((a==45 and b==3) or (a==3 and b==45)):\n",
    "            print(\"555\")\n",
    "        else:\n",
    "            print(c)\n",
    "elif(operator=='add(a,b)'):\n",
    "    def add(a,b):\n",
    "        if((a==56 and b==9) or (a==9 and b==56)):\n",
    "            print(\"77\")\n",
    "        else:\n",
    "            print(d)\n",
    "else:\n",
    "    def div(a,b):\n",
    "        if((a==56 and b==6) or (a==6 and b==56)):\n",
    "            print(\"4\")\n",
    "        else:\n",
    "            print(e)"
   ]
  },
  {
   "cell_type": "code",
   "execution_count": 14,
   "metadata": {},
   "outputs": [
    {
     "name": "stdout",
     "output_type": "stream",
     "text": [
      "Enter a number greater than 1: 2\n",
      "Choose a math operation (+, -, *): +\n",
      "2\n",
      "2\n",
      "2\n",
      "2\n",
      "2\n",
      "2\n",
      "2\n",
      "2\n",
      "2\n",
      "2\n"
     ]
    }
   ],
   "source": [
    "num = int(input(\"Enter a number greater than 1: \"))\n",
    "\n",
    "oper = input(\"Choose a math operation (+, -, *): \")\n",
    "for i in range(1, 11):\n",
    "    print(num)"
   ]
  },
  {
   "cell_type": "code",
   "execution_count": null,
   "metadata": {},
   "outputs": [],
   "source": []
  }
 ],
 "metadata": {
  "kernelspec": {
   "display_name": "Python 3",
   "language": "python",
   "name": "python3"
  },
  "language_info": {
   "codemirror_mode": {
    "name": "ipython",
    "version": 3
   },
   "file_extension": ".py",
   "mimetype": "text/x-python",
   "name": "python",
   "nbconvert_exporter": "python",
   "pygments_lexer": "ipython3",
   "version": "3.7.4"
  }
 },
 "nbformat": 4,
 "nbformat_minor": 2
}

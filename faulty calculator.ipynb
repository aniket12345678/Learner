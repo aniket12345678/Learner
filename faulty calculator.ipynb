{
 "cells": [
  {
   "cell_type": "code",
   "execution_count": 8,
   "metadata": {},
   "outputs": [
    {
     "name": "stdout",
     "output_type": "stream",
     "text": [
      "* for multiplication\n",
      "+ for addition\n",
      "/ for division\n",
      "enter 1st number:- 45\n",
      "enter 2nd number:- 3\n",
      "which operator do you want to use :- +\n",
      "48\n"
     ]
    }
   ],
   "source": [
    "print(\"* for multiplication\")\n",
    "print(\"+ for addition\")\n",
    "print(\"/ for division\")\n",
    "\n",
    "a = int(input(\"enter 1st number:- \"))\n",
    "b = int(input(\"enter 2nd number:- \"))\n",
    "operator = input(\"which operator do you want to use :- \")\n",
    "c = a*b\n",
    "d = a+b\n",
    "e = a/b\n",
    "if (operator=='*'):\n",
    "    if ((a==45 and b==3) or (a==3 and b==45)):\n",
    "        print(\"555\")\n",
    "    else:\n",
    "        print(c)\n",
    "elif(operator=='+'):\n",
    "    if ((a==56 and b==9) or (a==9 and b==56)):\n",
    "        print(\"77\")\n",
    "    else:\n",
    "        print(d)\n",
    "else:\n",
    "    if (a==56 and b==6):\n",
    "        print(\"4\")\n",
    "    else:\n",
    "        print(e)\n",
    "    \n"
   ]
  },
  {
   "cell_type": "code",
   "execution_count": null,
   "metadata": {},
   "outputs": [],
   "source": []
  }
 ],
 "metadata": {
  "kernelspec": {
   "display_name": "Python 3",
   "language": "python",
   "name": "python3"
  },
  "language_info": {
   "codemirror_mode": {
    "name": "ipython",
    "version": 3
   },
   "file_extension": ".py",
   "mimetype": "text/x-python",
   "name": "python",
   "nbconvert_exporter": "python",
   "pygments_lexer": "ipython3",
   "version": "3.7.4"
  }
 },
 "nbformat": 4,
 "nbformat_minor": 2
}
